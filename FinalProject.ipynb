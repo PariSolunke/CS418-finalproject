{
 "cells": [
  {
   "cell_type": "code",
   "execution_count": 219,
   "metadata": {},
   "outputs": [],
   "source": [
    "from sklearn import linear_model\n",
    "from sklearn.model_selection import train_test_split\n",
    "import sklearn.metrics as metrics\n",
    "from sklearn.preprocessing import StandardScaler\n",
    "from sklearn.cluster import AgglomerativeClustering,KMeans\n",
    "from pylab import rcParams\n",
    "\n",
    "\n",
    "import pandas as pd\n",
    "import numpy as np\n",
    "import matplotlib.pyplot as plt\n",
    "import seaborn as sns"
   ]
  },
  {
   "cell_type": "code",
   "execution_count": 127,
   "metadata": {},
   "outputs": [],
   "source": [
    "rcParams['figure.figsize'] = 8,6"
   ]
  },
  {
   "cell_type": "code",
   "execution_count": 225,
   "metadata": {},
   "outputs": [],
   "source": [
    "df=pd.read_csv(\"student-por.csv\",sep=';')"
   ]
  },
  {
   "cell_type": "markdown",
   "metadata": {},
   "source": [
    "### Exploring the dataset"
   ]
  },
  {
   "cell_type": "markdown",
   "metadata": {},
   "source": [
    "The file consists of grades for students of two schools in Portugal. Our response variable is going to be G3 which is the final Grade. The other two Grade variables are G1 and G2 which are earlier grades. All the grades are on a scale of 0-20. It also has 30 other features which include various deatils about the student ranging from their parents education and economic status to the amount of daily studytime. The categorical variables are either binary (eg access to internet: yes/no) or ordinal(Health:0-5, 0 being the worst and 5 being the healthiest.) We will now conduct some exploration of the data"
   ]
  },
  {
   "cell_type": "code",
   "execution_count": 226,
   "metadata": {},
   "outputs": [
    {
     "data": {
      "text/plain": [
       "Index(['school', 'sex', 'age', 'address', 'famsize', 'Pstatus', 'Medu', 'Fedu',\n",
       "       'Mjob', 'Fjob', 'reason', 'guardian', 'traveltime', 'studytime',\n",
       "       'failures', 'schoolsup', 'famsup', 'paid', 'activities', 'nursery',\n",
       "       'higher', 'internet', 'romantic', 'famrel', 'freetime', 'goout', 'Dalc',\n",
       "       'Walc', 'health', 'absences', 'G1', 'G2', 'G3'],\n",
       "      dtype='object')"
      ]
     },
     "execution_count": 226,
     "metadata": {},
     "output_type": "execute_result"
    }
   ],
   "source": [
    "df.columns"
   ]
  },
  {
   "cell_type": "code",
   "execution_count": 227,
   "metadata": {},
   "outputs": [
    {
     "data": {
      "text/html": [
       "<div>\n",
       "<style scoped>\n",
       "    .dataframe tbody tr th:only-of-type {\n",
       "        vertical-align: middle;\n",
       "    }\n",
       "\n",
       "    .dataframe tbody tr th {\n",
       "        vertical-align: top;\n",
       "    }\n",
       "\n",
       "    .dataframe thead th {\n",
       "        text-align: right;\n",
       "    }\n",
       "</style>\n",
       "<table border=\"1\" class=\"dataframe\">\n",
       "  <thead>\n",
       "    <tr style=\"text-align: right;\">\n",
       "      <th></th>\n",
       "      <th>age</th>\n",
       "      <th>Medu</th>\n",
       "      <th>Fedu</th>\n",
       "      <th>traveltime</th>\n",
       "      <th>studytime</th>\n",
       "      <th>failures</th>\n",
       "      <th>famrel</th>\n",
       "      <th>freetime</th>\n",
       "      <th>goout</th>\n",
       "      <th>Dalc</th>\n",
       "      <th>Walc</th>\n",
       "      <th>health</th>\n",
       "      <th>absences</th>\n",
       "      <th>G1</th>\n",
       "      <th>G2</th>\n",
       "      <th>G3</th>\n",
       "    </tr>\n",
       "  </thead>\n",
       "  <tbody>\n",
       "    <tr>\n",
       "      <td>count</td>\n",
       "      <td>649.000000</td>\n",
       "      <td>649.000000</td>\n",
       "      <td>649.000000</td>\n",
       "      <td>649.000000</td>\n",
       "      <td>649.000000</td>\n",
       "      <td>649.000000</td>\n",
       "      <td>649.000000</td>\n",
       "      <td>649.000000</td>\n",
       "      <td>649.000000</td>\n",
       "      <td>649.000000</td>\n",
       "      <td>649.000000</td>\n",
       "      <td>649.000000</td>\n",
       "      <td>649.000000</td>\n",
       "      <td>649.000000</td>\n",
       "      <td>649.000000</td>\n",
       "      <td>649.000000</td>\n",
       "    </tr>\n",
       "    <tr>\n",
       "      <td>mean</td>\n",
       "      <td>16.744222</td>\n",
       "      <td>2.514638</td>\n",
       "      <td>2.306626</td>\n",
       "      <td>1.568567</td>\n",
       "      <td>1.930663</td>\n",
       "      <td>0.221880</td>\n",
       "      <td>3.930663</td>\n",
       "      <td>3.180277</td>\n",
       "      <td>3.184900</td>\n",
       "      <td>1.502311</td>\n",
       "      <td>2.280431</td>\n",
       "      <td>3.536210</td>\n",
       "      <td>3.659476</td>\n",
       "      <td>11.399076</td>\n",
       "      <td>11.570108</td>\n",
       "      <td>11.906009</td>\n",
       "    </tr>\n",
       "    <tr>\n",
       "      <td>std</td>\n",
       "      <td>1.218138</td>\n",
       "      <td>1.134552</td>\n",
       "      <td>1.099931</td>\n",
       "      <td>0.748660</td>\n",
       "      <td>0.829510</td>\n",
       "      <td>0.593235</td>\n",
       "      <td>0.955717</td>\n",
       "      <td>1.051093</td>\n",
       "      <td>1.175766</td>\n",
       "      <td>0.924834</td>\n",
       "      <td>1.284380</td>\n",
       "      <td>1.446259</td>\n",
       "      <td>4.640759</td>\n",
       "      <td>2.745265</td>\n",
       "      <td>2.913639</td>\n",
       "      <td>3.230656</td>\n",
       "    </tr>\n",
       "    <tr>\n",
       "      <td>min</td>\n",
       "      <td>15.000000</td>\n",
       "      <td>0.000000</td>\n",
       "      <td>0.000000</td>\n",
       "      <td>1.000000</td>\n",
       "      <td>1.000000</td>\n",
       "      <td>0.000000</td>\n",
       "      <td>1.000000</td>\n",
       "      <td>1.000000</td>\n",
       "      <td>1.000000</td>\n",
       "      <td>1.000000</td>\n",
       "      <td>1.000000</td>\n",
       "      <td>1.000000</td>\n",
       "      <td>0.000000</td>\n",
       "      <td>0.000000</td>\n",
       "      <td>0.000000</td>\n",
       "      <td>0.000000</td>\n",
       "    </tr>\n",
       "    <tr>\n",
       "      <td>25%</td>\n",
       "      <td>16.000000</td>\n",
       "      <td>2.000000</td>\n",
       "      <td>1.000000</td>\n",
       "      <td>1.000000</td>\n",
       "      <td>1.000000</td>\n",
       "      <td>0.000000</td>\n",
       "      <td>4.000000</td>\n",
       "      <td>3.000000</td>\n",
       "      <td>2.000000</td>\n",
       "      <td>1.000000</td>\n",
       "      <td>1.000000</td>\n",
       "      <td>2.000000</td>\n",
       "      <td>0.000000</td>\n",
       "      <td>10.000000</td>\n",
       "      <td>10.000000</td>\n",
       "      <td>10.000000</td>\n",
       "    </tr>\n",
       "    <tr>\n",
       "      <td>50%</td>\n",
       "      <td>17.000000</td>\n",
       "      <td>2.000000</td>\n",
       "      <td>2.000000</td>\n",
       "      <td>1.000000</td>\n",
       "      <td>2.000000</td>\n",
       "      <td>0.000000</td>\n",
       "      <td>4.000000</td>\n",
       "      <td>3.000000</td>\n",
       "      <td>3.000000</td>\n",
       "      <td>1.000000</td>\n",
       "      <td>2.000000</td>\n",
       "      <td>4.000000</td>\n",
       "      <td>2.000000</td>\n",
       "      <td>11.000000</td>\n",
       "      <td>11.000000</td>\n",
       "      <td>12.000000</td>\n",
       "    </tr>\n",
       "    <tr>\n",
       "      <td>75%</td>\n",
       "      <td>18.000000</td>\n",
       "      <td>4.000000</td>\n",
       "      <td>3.000000</td>\n",
       "      <td>2.000000</td>\n",
       "      <td>2.000000</td>\n",
       "      <td>0.000000</td>\n",
       "      <td>5.000000</td>\n",
       "      <td>4.000000</td>\n",
       "      <td>4.000000</td>\n",
       "      <td>2.000000</td>\n",
       "      <td>3.000000</td>\n",
       "      <td>5.000000</td>\n",
       "      <td>6.000000</td>\n",
       "      <td>13.000000</td>\n",
       "      <td>13.000000</td>\n",
       "      <td>14.000000</td>\n",
       "    </tr>\n",
       "    <tr>\n",
       "      <td>max</td>\n",
       "      <td>22.000000</td>\n",
       "      <td>4.000000</td>\n",
       "      <td>4.000000</td>\n",
       "      <td>4.000000</td>\n",
       "      <td>4.000000</td>\n",
       "      <td>3.000000</td>\n",
       "      <td>5.000000</td>\n",
       "      <td>5.000000</td>\n",
       "      <td>5.000000</td>\n",
       "      <td>5.000000</td>\n",
       "      <td>5.000000</td>\n",
       "      <td>5.000000</td>\n",
       "      <td>32.000000</td>\n",
       "      <td>19.000000</td>\n",
       "      <td>19.000000</td>\n",
       "      <td>19.000000</td>\n",
       "    </tr>\n",
       "  </tbody>\n",
       "</table>\n",
       "</div>"
      ],
      "text/plain": [
       "              age        Medu        Fedu  traveltime   studytime    failures  \\\n",
       "count  649.000000  649.000000  649.000000  649.000000  649.000000  649.000000   \n",
       "mean    16.744222    2.514638    2.306626    1.568567    1.930663    0.221880   \n",
       "std      1.218138    1.134552    1.099931    0.748660    0.829510    0.593235   \n",
       "min     15.000000    0.000000    0.000000    1.000000    1.000000    0.000000   \n",
       "25%     16.000000    2.000000    1.000000    1.000000    1.000000    0.000000   \n",
       "50%     17.000000    2.000000    2.000000    1.000000    2.000000    0.000000   \n",
       "75%     18.000000    4.000000    3.000000    2.000000    2.000000    0.000000   \n",
       "max     22.000000    4.000000    4.000000    4.000000    4.000000    3.000000   \n",
       "\n",
       "           famrel    freetime       goout        Dalc        Walc      health  \\\n",
       "count  649.000000  649.000000  649.000000  649.000000  649.000000  649.000000   \n",
       "mean     3.930663    3.180277    3.184900    1.502311    2.280431    3.536210   \n",
       "std      0.955717    1.051093    1.175766    0.924834    1.284380    1.446259   \n",
       "min      1.000000    1.000000    1.000000    1.000000    1.000000    1.000000   \n",
       "25%      4.000000    3.000000    2.000000    1.000000    1.000000    2.000000   \n",
       "50%      4.000000    3.000000    3.000000    1.000000    2.000000    4.000000   \n",
       "75%      5.000000    4.000000    4.000000    2.000000    3.000000    5.000000   \n",
       "max      5.000000    5.000000    5.000000    5.000000    5.000000    5.000000   \n",
       "\n",
       "         absences          G1          G2          G3  \n",
       "count  649.000000  649.000000  649.000000  649.000000  \n",
       "mean     3.659476   11.399076   11.570108   11.906009  \n",
       "std      4.640759    2.745265    2.913639    3.230656  \n",
       "min      0.000000    0.000000    0.000000    0.000000  \n",
       "25%      0.000000   10.000000   10.000000   10.000000  \n",
       "50%      2.000000   11.000000   11.000000   12.000000  \n",
       "75%      6.000000   13.000000   13.000000   14.000000  \n",
       "max     32.000000   19.000000   19.000000   19.000000  "
      ]
     },
     "execution_count": 227,
     "metadata": {},
     "output_type": "execute_result"
    }
   ],
   "source": [
    "df.describe()"
   ]
  },
  {
   "cell_type": "code",
   "execution_count": 228,
   "metadata": {},
   "outputs": [
    {
     "data": {
      "text/plain": [
       "GP    423\n",
       "MS    226\n",
       "Name: school, dtype: int64"
      ]
     },
     "execution_count": 228,
     "metadata": {},
     "output_type": "execute_result"
    }
   ],
   "source": [
    "df['school'].value_counts()"
   ]
  },
  {
   "cell_type": "code",
   "execution_count": 229,
   "metadata": {},
   "outputs": [
    {
     "name": "stdout",
     "output_type": "stream",
     "text": [
      "course        285\n",
      "home          149\n",
      "reputation    143\n",
      "other          72\n",
      "Name: reason, dtype: int64\n",
      "reason\n",
      "course        11.547368\n",
      "home          12.181208\n",
      "other         10.694444\n",
      "reputation    12.944056\n",
      "Name: G3, dtype: float64\n"
     ]
    }
   ],
   "source": [
    "print(df['reason'].value_counts())\n",
    "print(df.groupby(by=\"reason\")['G3'].mean())\n"
   ]
  },
  {
   "cell_type": "code",
   "execution_count": 230,
   "metadata": {},
   "outputs": [
    {
     "name": "stdout",
     "output_type": "stream",
     "text": [
      "health\n",
      "1    12.477778\n",
      "2    12.192308\n",
      "3    11.838710\n",
      "4    12.305556\n",
      "5    11.469880\n",
      "Name: G3, dtype: float64\n"
     ]
    }
   ],
   "source": [
    "print(df.groupby(by=\"health\")['G3'].mean())\n"
   ]
  },
  {
   "cell_type": "code",
   "execution_count": 231,
   "metadata": {},
   "outputs": [
    {
     "name": "stdout",
     "output_type": "stream",
     "text": [
      "yes    398\n",
      "no     251\n",
      "Name: famsup, dtype: int64\n",
      "famsup      \n",
      "no      0.25    10.0\n",
      "        0.50    12.0\n",
      "        0.75    14.0\n",
      "yes     0.25    10.0\n",
      "        0.50    12.0\n",
      "        0.75    14.0\n",
      "Name: G3, dtype: float64\n"
     ]
    }
   ],
   "source": [
    "print(df['famsup'].value_counts())\n",
    "print(df.groupby(by=\"famsup\")['G3'].quantile([0.25,0.5,0.75]))"
   ]
  },
  {
   "cell_type": "markdown",
   "metadata": {},
   "source": [
    "**After further Exploration of the Dataset, we will be dropping some of the features from the dataset for various reasons, including not enough correlation or for some categorical variables, most features being biased towards one category or outliers**"
   ]
  },
  {
   "cell_type": "code",
   "execution_count": 232,
   "metadata": {},
   "outputs": [],
   "source": [
    "df.drop(columns=[\"school\",\"Dalc\",\"Walc\",\"reason\",\"famsize\",\"absences\",\"health\",\"Mjob\",\"Fjob\",\"activities\",\"guardian\",\"famsup\",\"schoolsup\",\"freetime\"],inplace=True)"
   ]
  },
  {
   "cell_type": "markdown",
   "metadata": {},
   "source": [
    "### Part 1: Prediction"
   ]
  },
  {
   "cell_type": "markdown",
   "metadata": {},
   "source": [
    "**We'll be saving our response variable G3 in y**"
   ]
  },
  {
   "cell_type": "code",
   "execution_count": 233,
   "metadata": {},
   "outputs": [],
   "source": [
    "y=df['G3']\n",
    "x=df.drop(columns=[\"G3\"])\n",
    "#imp sex,age,address,Pstatus,Medu,Fedu, traveltime,studytime,failures,paid,nursery,higher,internet,romantic,famrel,goout,"
   ]
  },
  {
   "cell_type": "code",
   "execution_count": 234,
   "metadata": {
    "scrolled": true
   },
   "outputs": [
    {
     "data": {
      "text/html": [
       "<div>\n",
       "<style scoped>\n",
       "    .dataframe tbody tr th:only-of-type {\n",
       "        vertical-align: middle;\n",
       "    }\n",
       "\n",
       "    .dataframe tbody tr th {\n",
       "        vertical-align: top;\n",
       "    }\n",
       "\n",
       "    .dataframe thead th {\n",
       "        text-align: right;\n",
       "    }\n",
       "</style>\n",
       "<table border=\"1\" class=\"dataframe\">\n",
       "  <thead>\n",
       "    <tr style=\"text-align: right;\">\n",
       "      <th></th>\n",
       "      <th>age</th>\n",
       "      <th>Medu</th>\n",
       "      <th>Fedu</th>\n",
       "      <th>traveltime</th>\n",
       "      <th>studytime</th>\n",
       "      <th>failures</th>\n",
       "      <th>famrel</th>\n",
       "      <th>goout</th>\n",
       "      <th>G1</th>\n",
       "      <th>G2</th>\n",
       "      <th>sex_M</th>\n",
       "      <th>address_U</th>\n",
       "      <th>Pstatus_T</th>\n",
       "      <th>paid_yes</th>\n",
       "      <th>nursery_yes</th>\n",
       "      <th>higher_yes</th>\n",
       "      <th>internet_yes</th>\n",
       "      <th>romantic_yes</th>\n",
       "    </tr>\n",
       "  </thead>\n",
       "  <tbody>\n",
       "    <tr>\n",
       "      <td>0</td>\n",
       "      <td>18</td>\n",
       "      <td>4</td>\n",
       "      <td>4</td>\n",
       "      <td>2</td>\n",
       "      <td>2</td>\n",
       "      <td>0</td>\n",
       "      <td>4</td>\n",
       "      <td>4</td>\n",
       "      <td>0</td>\n",
       "      <td>11</td>\n",
       "      <td>0</td>\n",
       "      <td>1</td>\n",
       "      <td>0</td>\n",
       "      <td>0</td>\n",
       "      <td>1</td>\n",
       "      <td>1</td>\n",
       "      <td>0</td>\n",
       "      <td>0</td>\n",
       "    </tr>\n",
       "    <tr>\n",
       "      <td>1</td>\n",
       "      <td>17</td>\n",
       "      <td>1</td>\n",
       "      <td>1</td>\n",
       "      <td>1</td>\n",
       "      <td>2</td>\n",
       "      <td>0</td>\n",
       "      <td>5</td>\n",
       "      <td>3</td>\n",
       "      <td>9</td>\n",
       "      <td>11</td>\n",
       "      <td>0</td>\n",
       "      <td>1</td>\n",
       "      <td>1</td>\n",
       "      <td>0</td>\n",
       "      <td>0</td>\n",
       "      <td>1</td>\n",
       "      <td>1</td>\n",
       "      <td>0</td>\n",
       "    </tr>\n",
       "    <tr>\n",
       "      <td>2</td>\n",
       "      <td>15</td>\n",
       "      <td>1</td>\n",
       "      <td>1</td>\n",
       "      <td>1</td>\n",
       "      <td>2</td>\n",
       "      <td>0</td>\n",
       "      <td>4</td>\n",
       "      <td>2</td>\n",
       "      <td>12</td>\n",
       "      <td>13</td>\n",
       "      <td>0</td>\n",
       "      <td>1</td>\n",
       "      <td>1</td>\n",
       "      <td>0</td>\n",
       "      <td>1</td>\n",
       "      <td>1</td>\n",
       "      <td>1</td>\n",
       "      <td>0</td>\n",
       "    </tr>\n",
       "    <tr>\n",
       "      <td>3</td>\n",
       "      <td>15</td>\n",
       "      <td>4</td>\n",
       "      <td>2</td>\n",
       "      <td>1</td>\n",
       "      <td>3</td>\n",
       "      <td>0</td>\n",
       "      <td>3</td>\n",
       "      <td>2</td>\n",
       "      <td>14</td>\n",
       "      <td>14</td>\n",
       "      <td>0</td>\n",
       "      <td>1</td>\n",
       "      <td>1</td>\n",
       "      <td>0</td>\n",
       "      <td>1</td>\n",
       "      <td>1</td>\n",
       "      <td>1</td>\n",
       "      <td>1</td>\n",
       "    </tr>\n",
       "    <tr>\n",
       "      <td>4</td>\n",
       "      <td>16</td>\n",
       "      <td>3</td>\n",
       "      <td>3</td>\n",
       "      <td>1</td>\n",
       "      <td>2</td>\n",
       "      <td>0</td>\n",
       "      <td>4</td>\n",
       "      <td>2</td>\n",
       "      <td>11</td>\n",
       "      <td>13</td>\n",
       "      <td>0</td>\n",
       "      <td>1</td>\n",
       "      <td>1</td>\n",
       "      <td>0</td>\n",
       "      <td>1</td>\n",
       "      <td>1</td>\n",
       "      <td>0</td>\n",
       "      <td>0</td>\n",
       "    </tr>\n",
       "  </tbody>\n",
       "</table>\n",
       "</div>"
      ],
      "text/plain": [
       "   age  Medu  Fedu  traveltime  studytime  failures  famrel  goout  G1  G2  \\\n",
       "0   18     4     4           2          2         0       4      4   0  11   \n",
       "1   17     1     1           1          2         0       5      3   9  11   \n",
       "2   15     1     1           1          2         0       4      2  12  13   \n",
       "3   15     4     2           1          3         0       3      2  14  14   \n",
       "4   16     3     3           1          2         0       4      2  11  13   \n",
       "\n",
       "   sex_M  address_U  Pstatus_T  paid_yes  nursery_yes  higher_yes  \\\n",
       "0      0          1          0         0            1           1   \n",
       "1      0          1          1         0            0           1   \n",
       "2      0          1          1         0            1           1   \n",
       "3      0          1          1         0            1           1   \n",
       "4      0          1          1         0            1           1   \n",
       "\n",
       "   internet_yes  romantic_yes  \n",
       "0             0             0  \n",
       "1             1             0  \n",
       "2             1             0  \n",
       "3             1             1  \n",
       "4             0             0  "
      ]
     },
     "execution_count": 234,
     "metadata": {},
     "output_type": "execute_result"
    }
   ],
   "source": [
    "x_dummies=pd.get_dummies(x,drop_first=True)\n",
    "x_dummies.head()"
   ]
  },
  {
   "cell_type": "code",
   "execution_count": 235,
   "metadata": {},
   "outputs": [],
   "source": [
    "x_train,x_test,y_train,y_test=train_test_split(x_dummies,y,random_state=7,test_size=0.20)"
   ]
  },
  {
   "cell_type": "code",
   "execution_count": 236,
   "metadata": {},
   "outputs": [],
   "source": [
    "scaler=StandardScaler().fit(x_train)\n",
    "x_train=scaler.transform(x_train)\n",
    "x_test=scaler.transform(x_test)"
   ]
  },
  {
   "cell_type": "code",
   "execution_count": 237,
   "metadata": {},
   "outputs": [
    {
     "name": "stdout",
     "output_type": "stream",
     "text": [
      "r2: 0.8781350346812715 Adjusted r2 0.841575545085653\n",
      "\n",
      "Coef: [ 0.06950797 -0.03581235  0.03059854  0.13360156  0.02056827 -0.10880876\n",
      " -0.05100187 -0.05639364  0.33065427  2.63486648 -0.10430109  0.11682425\n",
      " -0.0477909   0.00961633 -0.0250131   0.07811875  0.0311221  -0.0514821 ]\n"
     ]
    }
   ],
   "source": [
    "#Using Linear regression with all variables as features\n",
    "\n",
    "model = linear_model.LinearRegression().fit(X = x_train, y = y_train)\n",
    "y_pred=model.predict(x_test)\n",
    "np.clip(y_pred,0,20,out=y_pred)\n",
    "\n",
    "r2=metrics.r2_score(y_test,y_pred)\n",
    "r2_adj=1-(1-r2)*(79-1)/(79-18-1)\n",
    "print(\"r2:\",r2,\"Adjusted r2\",r2_adj)\n",
    "print(\"\\nCoef:\",model.coef_)"
   ]
  },
  {
   "cell_type": "code",
   "execution_count": 238,
   "metadata": {},
   "outputs": [
    {
     "name": "stdout",
     "output_type": "stream",
     "text": [
      "r2: 0.8784015370562929 Adjusted r2 0.8419219981731807\n",
      "\n",
      "Coef: [ 0.07070085 -0.03466384  0.03047126  0.13295335  0.02087015 -0.11052524\n",
      " -0.04980314 -0.05637776  0.3454198   2.61567991 -0.10442089  0.11640659\n",
      " -0.04780294  0.00998933 -0.02511567  0.07853281  0.03124057 -0.05213376]\n"
     ]
    }
   ],
   "source": [
    "#Using Ridge regression with all variables\n",
    "\n",
    "model = linear_model.Ridge(alpha=1).fit(X = x_train, y = y_train)\n",
    "y_pred=model.predict(x_test)\n",
    "np.clip(y_pred,0,20,out=y_pred)\n",
    "\n",
    "r2=metrics.r2_score(y_test,y_pred)\n",
    "r2_adj=1-(1-r2)*(79-1)/(79-18-1)\n",
    "print(\"r2:\",r2,\"Adjusted r2\",r2_adj)\n",
    "print(\"\\nCoef:\",model.coef_)"
   ]
  },
  {
   "cell_type": "code",
   "execution_count": 239,
   "metadata": {},
   "outputs": [
    {
     "name": "stdout",
     "output_type": "stream",
     "text": [
      "r2: 0.7752311205824793 Adjusted r2 0.7078004567572231\n",
      "\n",
      "Coef: [-0.          0.          0.         -0.          0.         -0.\n",
      "  0.         -0.          0.          1.99512206 -0.          0.\n",
      " -0.         -0.         -0.          0.          0.         -0.        ]\n"
     ]
    }
   ],
   "source": [
    "#Using Lasso regression with all variables\n",
    "\n",
    "model = linear_model.Lasso(alpha=1).fit(X = x_train, y = y_train)\n",
    "y_pred=model.predict(x_test)\n",
    "np.clip(y_pred,0,20,out=y_pred)\n",
    "\n",
    "r2=metrics.r2_score(y_test,y_pred)\n",
    "r2_adj=1-(1-r2)*(79-1)/(79-18-1)\n",
    "print(\"r2:\",r2,\"Adjusted r2\",r2_adj)\n",
    "print(\"\\nCoef:\",model.coef_)"
   ]
  },
  {
   "cell_type": "markdown",
   "metadata": {},
   "source": [
    "**As we can see, initially when we use all features as input, Ridge regression gives out the best score, Lasso Regression performs the worst, possibly because it is ignoring all features except \"G2\". Henceforth, we'll be using Ridge Regression to work out which features work best by comparing the adjusted r2 value for different features**"
   ]
  },
  {
   "cell_type": "code",
   "execution_count": 240,
   "metadata": {},
   "outputs": [
    {
     "name": "stdout",
     "output_type": "stream",
     "text": [
      "r2: 0.8773360947699278 Adjusted r2 0.8741080972638733\n"
     ]
    }
   ],
   "source": [
    "#Using earlier grades G1 and G2 as features to predict G3\n",
    "model = linear_model.Ridge(alpha=1).fit(X = x_train[:,[8,9]], y = y_train)\n",
    "y_pred=model.predict(x_test[:,[8,9]])\n",
    "np.clip(y_pred,0,20,out=y_pred)\n",
    "\n",
    "r2=metrics.r2_score(y_test,y_pred)\n",
    "r2_adj=1-(1-r2)*(79-1)/(79-2-1)\n",
    "print(\"r2:\",r2,\"Adjusted r2\",r2_adj)"
   ]
  },
  {
   "cell_type": "code",
   "execution_count": 241,
   "metadata": {},
   "outputs": [
    {
     "name": "stdout",
     "output_type": "stream",
     "text": [
      "r2: 0.7311911470454446 Adjusted r2 0.6961291227470243\n"
     ]
    }
   ],
   "source": [
    "#Using the first half of the features to predict G3\n",
    "\n",
    "model = linear_model.Ridge(alpha=1).fit(X = x_train[:,0:9], y = y_train)\n",
    "y_pred=model.predict(x_test[:,0:9])\n",
    "np.clip(y_pred,0,20,out=y_pred)\n",
    "\n",
    "r2=metrics.r2_score(y_test,y_pred)\n",
    "r2_adj=1-(1-r2)*(79-1)/(79-9-1)\n",
    "print(\"r2:\",r2,\"Adjusted r2\",r2_adj)"
   ]
  },
  {
   "cell_type": "code",
   "execution_count": 242,
   "metadata": {},
   "outputs": [
    {
     "name": "stdout",
     "output_type": "stream",
     "text": [
      "r2: 0.871114327921999 Adjusted r2 0.8499539937002377\n"
     ]
    }
   ],
   "source": [
    "#Using the second half of the features to predict G3\n",
    "\n",
    "model = linear_model.Ridge(alpha=1).fit(X = x_train[:,9:], y = y_train)\n",
    "y_pred=model.predict(x_test[:,9:])\n",
    "np.clip(y_pred,0,20,out=y_pred)\n",
    "\n",
    "r2=metrics.r2_score(y_test,y_pred)\n",
    "r2_adj=1-(1-r2)*(79-1)/(79-11-1)\n",
    "print(\"r2:\",r2,\"Adjusted r2\",r2_adj)"
   ]
  },
  {
   "cell_type": "code",
   "execution_count": 243,
   "metadata": {},
   "outputs": [
    {
     "name": "stdout",
     "output_type": "stream",
     "text": [
      "r2: 0.8780072063297866 Adjusted r2 0.8714130012665318\n"
     ]
    }
   ],
   "source": [
    "#Using earlier grades G1,G2, address (Urban Vs Rural),Pstatus(together vs apart)  as features\n",
    "model = linear_model.Ridge(alpha=1).fit(X = x_train[:,[8,9,11,12]], y = y_train)\n",
    "y_pred=model.predict(x_test[:,[8,9,11,12]])\n",
    "np.clip(y_pred,0,20,out=y_pred)\n",
    "\n",
    "r2=metrics.r2_score(y_test,y_pred)\n",
    "r2_adj=1-(1-r2)*(79-1)/(79-4-1)\n",
    "print(\"r2:\",r2,\"Adjusted r2\",r2_adj)"
   ]
  },
  {
   "cell_type": "code",
   "execution_count": 244,
   "metadata": {},
   "outputs": [
    {
     "name": "stdout",
     "output_type": "stream",
     "text": [
      "r2: 0.8780017278774596 Adjusted r2 0.873121796992558\n"
     ]
    }
   ],
   "source": [
    "#Using earlier grades G1,G2, sex  as features with Ridge Regression\n",
    "model = linear_model.Ridge(alpha=1).fit(X = x_train[:,[8,9,10]], y = y_train)\n",
    "y_pred=model.predict(x_test[:,[8,9,10]])\n",
    "np.clip(y_pred,0,20,out=y_pred)\n",
    "\n",
    "r2=metrics.r2_score(y_test,y_pred)\n",
    "r2_adj=1-(1-r2)*(79-1)/(79-3-1)\n",
    "print(\"r2:\",r2,\"Adjusted r2\",r2_adj)"
   ]
  },
  {
   "cell_type": "code",
   "execution_count": 245,
   "metadata": {},
   "outputs": [
    {
     "name": "stdout",
     "output_type": "stream",
     "text": [
      "r2: 0.8805001028305788 Adjusted r2 0.8757201069438019\n"
     ]
    }
   ],
   "source": [
    "#Using earlier grades G1,G2 and failures as features\n",
    "model = linear_model.Ridge(alpha=1).fit(X = x_train[:,[5,8,9]], y = y_train)\n",
    "y_pred=model.predict(x_test[:,[5,8,9]])\n",
    "np.clip(y_pred,0,20,out=y_pred)\n",
    "\n",
    "r2=metrics.r2_score(y_test,y_pred)\n",
    "r2_adj=1-(1-r2)*(79-1)/(79-3-1)\n",
    "print(\"r2:\",r2,\"Adjusted r2\",r2_adj)"
   ]
  },
  {
   "cell_type": "code",
   "execution_count": 246,
   "metadata": {},
   "outputs": [
    {
     "name": "stdout",
     "output_type": "stream",
     "text": [
      "r2: 0.8788603112643781 Adjusted r2 0.8740147237149533\n"
     ]
    }
   ],
   "source": [
    "\n",
    "#Using earlier grades G1,G2 and studytime as features\n",
    "model = linear_model.Ridge(alpha=1).fit(X = x_train[:,[4,8,9]], y = y_train)\n",
    "y_pred=model.predict(x_test[:,[4,8,9]])\n",
    "np.clip(y_pred,0,20,out=y_pred)\n",
    "\n",
    "r2=metrics.r2_score(y_test,y_pred)\n",
    "r2_adj=1-(1-r2)*(79-1)/(79-3-1)\n",
    "print(\"r2:\",r2,\"Adjusted r2\",r2_adj)"
   ]
  },
  {
   "cell_type": "code",
   "execution_count": 247,
   "metadata": {},
   "outputs": [
    {
     "name": "stdout",
     "output_type": "stream",
     "text": [
      "r2: 0.8818416182835578 Adjusted r2 0.8737485784399659\n"
     ]
    }
   ],
   "source": [
    "#Using age,earlier grades G1,G2,age studytime, and failures as features\n",
    "model = linear_model.Ridge(alpha=1).fit(X = x_train[:,[0,4,5,8,9]], y = y_train)\n",
    "y_pred=model.predict(x_test[:,[0,4,5,8,9]])\n",
    "np.clip(y_pred,0,20,out=y_pred)\n",
    "\n",
    "r2=metrics.r2_score(y_test,y_pred)\n",
    "r2_adj=1-(1-r2)*(79-1)/(79-5-1)\n",
    "print(\"r2:\",r2,\"Adjusted r2\",r2_adj)"
   ]
  },
  {
   "cell_type": "code",
   "execution_count": 248,
   "metadata": {},
   "outputs": [
    {
     "name": "stdout",
     "output_type": "stream",
     "text": [
      "r2: 0.8818154115199116 Adjusted r2 0.8754270553858527\n"
     ]
    }
   ],
   "source": [
    "#Using earlier grades G1,G2, studytime, and failures as features\n",
    "model = linear_model.Ridge(alpha=1).fit(X = x_train[:,[4,5,8,9]], y = y_train)\n",
    "y_pred=model.predict(x_test[:,[4,5,8,9]])\n",
    "np.clip(y_pred,0,20,out=y_pred)\n",
    "\n",
    "r2=metrics.r2_score(y_test,y_pred)\n",
    "r2_adj=1-(1-r2)*(79-1)/(79-4-1)\n",
    "print(\"r2:\",r2,\"Adjusted r2\",r2_adj)"
   ]
  },
  {
   "cell_type": "markdown",
   "metadata": {},
   "source": [
    "**From the various combinations of variables used above, we got the best regression model using the Earlier grades G1,G2,studytime, and failures as our predictor variables for the response variable G3 (final grades).\n",
    "The adjusted r2 for that model is .875**"
   ]
  },
  {
   "cell_type": "code",
   "execution_count": 249,
   "metadata": {},
   "outputs": [
    {
     "data": {
      "text/plain": [
       "Text(0, 0.5, 'Y_pred')"
      ]
     },
     "execution_count": 249,
     "metadata": {},
     "output_type": "execute_result"
    },
    {
     "data": {
      "image/png": "[encoded data removed]",
      "text/plain": [
       "<Figure size 576x432 with 1 Axes>"
      ]
     },
     "metadata": {
      "needs_background": "light"
     },
     "output_type": "display_data"
    }
   ],
   "source": [
    "#View scatterplot for the ypred vs yactual for the best working model\n",
    "sns.scatterplot(x=y_test,y=y_pred, palette=\"Accent\")\n",
    "plt.xlabel(\"Y_test\")\n",
    "plt.ylabel(\"Y_pred\")"
   ]
  },
  {
   "cell_type": "markdown",
   "metadata": {},
   "source": [
    "### Part 2: Clustering\n"
   ]
  },
  {
   "cell_type": "code",
   "execution_count": 250,
   "metadata": {},
   "outputs": [
    {
     "data": {
      "text/html": [
       "<div>\n",
       "<style scoped>\n",
       "    .dataframe tbody tr th:only-of-type {\n",
       "        vertical-align: middle;\n",
       "    }\n",
       "\n",
       "    .dataframe tbody tr th {\n",
       "        vertical-align: top;\n",
       "    }\n",
       "\n",
       "    .dataframe thead th {\n",
       "        text-align: right;\n",
       "    }\n",
       "</style>\n",
       "<table border=\"1\" class=\"dataframe\">\n",
       "  <thead>\n",
       "    <tr style=\"text-align: right;\">\n",
       "      <th></th>\n",
       "      <th>age</th>\n",
       "      <th>Medu</th>\n",
       "      <th>Fedu</th>\n",
       "      <th>traveltime</th>\n",
       "      <th>studytime</th>\n",
       "      <th>failures</th>\n",
       "      <th>famrel</th>\n",
       "      <th>goout</th>\n",
       "      <th>G1</th>\n",
       "      <th>G2</th>\n",
       "      <th>sex_M</th>\n",
       "      <th>address_U</th>\n",
       "      <th>Pstatus_T</th>\n",
       "      <th>paid_yes</th>\n",
       "      <th>nursery_yes</th>\n",
       "      <th>higher_yes</th>\n",
       "      <th>internet_yes</th>\n",
       "      <th>romantic_yes</th>\n",
       "    </tr>\n",
       "  </thead>\n",
       "  <tbody>\n",
       "    <tr>\n",
       "      <td>0</td>\n",
       "      <td>18</td>\n",
       "      <td>4</td>\n",
       "      <td>4</td>\n",
       "      <td>2</td>\n",
       "      <td>2</td>\n",
       "      <td>0</td>\n",
       "      <td>4</td>\n",
       "      <td>4</td>\n",
       "      <td>0</td>\n",
       "      <td>11</td>\n",
       "      <td>0</td>\n",
       "      <td>1</td>\n",
       "      <td>0</td>\n",
       "      <td>0</td>\n",
       "      <td>1</td>\n",
       "      <td>1</td>\n",
       "      <td>0</td>\n",
       "      <td>0</td>\n",
       "    </tr>\n",
       "    <tr>\n",
       "      <td>1</td>\n",
       "      <td>17</td>\n",
       "      <td>1</td>\n",
       "      <td>1</td>\n",
       "      <td>1</td>\n",
       "      <td>2</td>\n",
       "      <td>0</td>\n",
       "      <td>5</td>\n",
       "      <td>3</td>\n",
       "      <td>9</td>\n",
       "      <td>11</td>\n",
       "      <td>0</td>\n",
       "      <td>1</td>\n",
       "      <td>1</td>\n",
       "      <td>0</td>\n",
       "      <td>0</td>\n",
       "      <td>1</td>\n",
       "      <td>1</td>\n",
       "      <td>0</td>\n",
       "    </tr>\n",
       "    <tr>\n",
       "      <td>2</td>\n",
       "      <td>15</td>\n",
       "      <td>1</td>\n",
       "      <td>1</td>\n",
       "      <td>1</td>\n",
       "      <td>2</td>\n",
       "      <td>0</td>\n",
       "      <td>4</td>\n",
       "      <td>2</td>\n",
       "      <td>12</td>\n",
       "      <td>13</td>\n",
       "      <td>0</td>\n",
       "      <td>1</td>\n",
       "      <td>1</td>\n",
       "      <td>0</td>\n",
       "      <td>1</td>\n",
       "      <td>1</td>\n",
       "      <td>1</td>\n",
       "      <td>0</td>\n",
       "    </tr>\n",
       "    <tr>\n",
       "      <td>3</td>\n",
       "      <td>15</td>\n",
       "      <td>4</td>\n",
       "      <td>2</td>\n",
       "      <td>1</td>\n",
       "      <td>3</td>\n",
       "      <td>0</td>\n",
       "      <td>3</td>\n",
       "      <td>2</td>\n",
       "      <td>14</td>\n",
       "      <td>14</td>\n",
       "      <td>0</td>\n",
       "      <td>1</td>\n",
       "      <td>1</td>\n",
       "      <td>0</td>\n",
       "      <td>1</td>\n",
       "      <td>1</td>\n",
       "      <td>1</td>\n",
       "      <td>1</td>\n",
       "    </tr>\n",
       "    <tr>\n",
       "      <td>4</td>\n",
       "      <td>16</td>\n",
       "      <td>3</td>\n",
       "      <td>3</td>\n",
       "      <td>1</td>\n",
       "      <td>2</td>\n",
       "      <td>0</td>\n",
       "      <td>4</td>\n",
       "      <td>2</td>\n",
       "      <td>11</td>\n",
       "      <td>13</td>\n",
       "      <td>0</td>\n",
       "      <td>1</td>\n",
       "      <td>1</td>\n",
       "      <td>0</td>\n",
       "      <td>1</td>\n",
       "      <td>1</td>\n",
       "      <td>0</td>\n",
       "      <td>0</td>\n",
       "    </tr>\n",
       "  </tbody>\n",
       "</table>\n",
       "</div>"
      ],
      "text/plain": [
       "   age  Medu  Fedu  traveltime  studytime  failures  famrel  goout  G1  G2  \\\n",
       "0   18     4     4           2          2         0       4      4   0  11   \n",
       "1   17     1     1           1          2         0       5      3   9  11   \n",
       "2   15     1     1           1          2         0       4      2  12  13   \n",
       "3   15     4     2           1          3         0       3      2  14  14   \n",
       "4   16     3     3           1          2         0       4      2  11  13   \n",
       "\n",
       "   sex_M  address_U  Pstatus_T  paid_yes  nursery_yes  higher_yes  \\\n",
       "0      0          1          0         0            1           1   \n",
       "1      0          1          1         0            0           1   \n",
       "2      0          1          1         0            1           1   \n",
       "3      0          1          1         0            1           1   \n",
       "4      0          1          1         0            1           1   \n",
       "\n",
       "   internet_yes  romantic_yes  \n",
       "0             0             0  \n",
       "1             1             0  \n",
       "2             1             0  \n",
       "3             1             1  \n",
       "4             0             0  "
      ]
     },
     "execution_count": 250,
     "metadata": {},
     "output_type": "execute_result"
    }
   ],
   "source": [
    "scaler=StandardScaler().fit(x_dummies)\n",
    "x_clustering=scaler.transform(x_dummies)\n",
    "x_dummies.head()"
   ]
  },
  {
   "cell_type": "markdown",
   "metadata": {},
   "source": [
    "**Clustering with G1,G2,address(Urban/rural), Pstatus(parent status together/apart),higher(going to pursue higher education)**"
   ]
  },
  {
   "cell_type": "code",
   "execution_count": 251,
   "metadata": {},
   "outputs": [
    {
     "name": "stdout",
     "output_type": "stream",
     "text": [
      "0.3114492827810512 k: 3\n",
      "0.3783637711278405 k: 4\n",
      "0.4526937564281484 k: 5\n",
      "0.46779947442163183 k: 6\n",
      "0.44969332352354957 k: 7\n",
      "0.45707074411590204 k: 8\n"
     ]
    }
   ],
   "source": [
    "#We will use the silhoutte score to determine the appropriate number of clusters\n",
    "x_subset=x_clustering[:,[8,9,11,12,15]]\n",
    "k_range=range(3,9)\n",
    "for k in k_range:\n",
    "    clustering = KMeans(n_clusters = k, init = 'k-means++', n_init = 10).fit(x_subset)\n",
    "    clusters=clustering.labels_\n",
    "    print(metrics.silhouette_score(x_subset, clusters, metric = \"euclidean\"),\"k:\",k)"
   ]
  },
  {
   "cell_type": "markdown",
   "metadata": {},
   "source": [
    "**We can conclude that there are 6 clusters for the chosen subset**"
   ]
  },
  {
   "cell_type": "code",
   "execution_count": 252,
   "metadata": {},
   "outputs": [],
   "source": [
    "#kmeans\n",
    "clustering = KMeans(n_clusters = 6, init = 'k-means++', n_init = 10).fit(x_subset)\n",
    "clusters=clustering.labels_\n",
    "df2=x\n",
    "df2[\"clusters\"] = pd.Series(clusters)"
   ]
  },
  {
   "cell_type": "code",
   "execution_count": 253,
   "metadata": {},
   "outputs": [
    {
     "data": {
      "text/plain": [
       "Text(0.5, 0, 'Cluster')"
      ]
     },
     "execution_count": 253,
     "metadata": {},
     "output_type": "execute_result"
    },
    {
     "data": {
      "image/png": "[encoded data removed]",
      "text/plain": [
       "<Figure size 576x432 with 1 Axes>"
      ]
     },
     "metadata": {
      "needs_background": "light"
     },
     "output_type": "display_data"
    }
   ],
   "source": [
    "#clusters by Grade 1\n",
    "sns.stripplot('clusters', 'G1', data=df2, hue=clusters,jitter=0.2)\n",
    "plt.xlabel(\"Cluster\")\n"
   ]
  },
  {
   "cell_type": "code",
   "execution_count": 254,
   "metadata": {},
   "outputs": [
    {
     "data": {
      "text/plain": [
       "Text(0.5, 0, 'Cluster')"
      ]
     },
     "execution_count": 254,
     "metadata": {},
     "output_type": "execute_result"
    },
    {
     "data": {
      "image/png": "[encoded data removed]",
      "text/plain": [
       "<Figure size 576x432 with 1 Axes>"
      ]
     },
     "metadata": {
      "needs_background": "light"
     },
     "output_type": "display_data"
    }
   ],
   "source": [
    "#Viewing clusters by Grade 2\n",
    "sns.stripplot('clusters', 'G2', data=df2, hue=clusters,jitter=0.2)\n",
    "plt.xlabel(\"Cluster\")\n"
   ]
  },
  {
   "cell_type": "code",
   "execution_count": 255,
   "metadata": {},
   "outputs": [],
   "source": [
    "#using agglomerative clustering for the chosen subset\n",
    "\n",
    "clustering = AgglomerativeClustering(n_clusters=6,linkage=\"ward\").fit(x_subset)\n",
    "clusters=clustering.labels_\n",
    "df2=x\n",
    "df2[\"clusters\"] = pd.Series(clusters)"
   ]
  },
  {
   "cell_type": "code",
   "execution_count": 256,
   "metadata": {},
   "outputs": [
    {
     "data": {
      "text/plain": [
       "Text(0.5, 0, 'Cluster')"
      ]
     },
     "execution_count": 256,
     "metadata": {},
     "output_type": "execute_result"
    },
    {
     "data": {
      "image/png": "[encoded data removed]",
      "text/plain": [
       "<Figure size 576x432 with 1 Axes>"
      ]
     },
     "metadata": {
      "needs_background": "light"
     },
     "output_type": "display_data"
    }
   ],
   "source": [
    "#clusters by Grade 1\n",
    "sns.stripplot('clusters', 'G1', data=df2, hue=clusters,jitter=0.2)\n",
    "plt.xlabel(\"Cluster\")\n"
   ]
  },
  {
   "cell_type": "code",
   "execution_count": 257,
   "metadata": {},
   "outputs": [
    {
     "data": {
      "text/plain": [
       "Text(0.5, 0, 'Cluster')"
      ]
     },
     "execution_count": 257,
     "metadata": {},
     "output_type": "execute_result"
    },
    {
     "data": {
      "image/png": "[encoded data removed]",
      "text/plain": [
       "<Figure size 576x432 with 1 Axes>"
      ]
     },
     "metadata": {
      "needs_background": "light"
     },
     "output_type": "display_data"
    }
   ],
   "source": [
    "#Viewing clusters by Grade 2\n",
    "sns.stripplot('clusters', 'G2', data=df2, hue=clusters,jitter=0.2)\n",
    "plt.xlabel(\"Cluster\")\n"
   ]
  },
  {
   "cell_type": "markdown",
   "metadata": {},
   "source": [
    "*Looking at the plots, we can see that from the 6 identified clusters, 2 are relatively high schoring, 2 are low scoring, one is relatively average scoring and one has a lot of variation and includes really high scoring students as well as low scoring students*\n",
    "\n",
    "\n",
    "*Additionally, from the plots above we can conclude that Kmeans and agglomerative clustering have similar results for the given dataset. Henceforth, we'll be using KMeans. We will not be using DBSCAN as it has problems with a large number of features.*"
   ]
  },
  {
   "cell_type": "markdown",
   "metadata": {},
   "source": [
    "**Clustering with famrel(quality of family relationship),and paid(availing extra paid support)) as the features**"
   ]
  },
  {
   "cell_type": "code",
   "execution_count": 258,
   "metadata": {},
   "outputs": [
    {
     "name": "stdout",
     "output_type": "stream",
     "text": [
      "0.9234412933670707 k: 3\n",
      "0.9670461833718402 k: 4\n",
      "0.9736083036260131 k: 5\n",
      "0.9895837911241617 k: 6\n",
      "0.99768875192604 k: 7\n",
      "0.9984591679506933 k: 8\n",
      "0.9984591679506933 k: 9\n"
     ]
    },
    {
     "name": "stderr",
     "output_type": "stream",
     "text": [
      "C:\\Users\\Parikshit\\Anaconda3\\lib\\site-packages\\sklearn\\cluster\\k_means_.py:972: ConvergenceWarning: Number of distinct clusters (8) found smaller than n_clusters (9). Possibly due to duplicate points in X.\n",
      "  return_n_iter=True)\n"
     ]
    }
   ],
   "source": [
    "#We will use the silhoutte score to determine the appropriate number of clusters\n",
    "x_subset=x_clustering[:,[5,13]]\n",
    "k_range=range(3,10)\n",
    "for k in k_range:\n",
    "    clustering = KMeans(n_clusters = k, init = 'k-means++', n_init = 10).fit(x_subset)\n",
    "    clusters=clustering.labels_\n",
    "    print(metrics.silhouette_score(x_subset, clusters, metric = \"euclidean\"),\"k:\",k)"
   ]
  },
  {
   "cell_type": "markdown",
   "metadata": {},
   "source": [
    "**We can conclude that there are 8 clusters for the chosen subset**"
   ]
  },
  {
   "cell_type": "code",
   "execution_count": 259,
   "metadata": {},
   "outputs": [],
   "source": [
    "#kmeans\n",
    "clustering = KMeans(n_clusters = 8, init = 'k-means++', n_init = 10).fit(x_subset)\n",
    "clusters=clustering.labels_\n",
    "df2=x\n",
    "df2[\"clusters\"] = pd.Series(clusters)"
   ]
  },
  {
   "cell_type": "code",
   "execution_count": 260,
   "metadata": {},
   "outputs": [
    {
     "data": {
      "text/plain": [
       "Text(0.5, 0, 'Cluster')"
      ]
     },
     "execution_count": 260,
     "metadata": {},
     "output_type": "execute_result"
    },
    {
     "data": {
      "image/png": "[encoded data removed]",
      "text/plain": [
       "<Figure size 576x432 with 1 Axes>"
      ]
     },
     "metadata": {
      "needs_background": "light"
     },
     "output_type": "display_data"
    }
   ],
   "source": [
    "#View clusters by Grade 1\n",
    "sns.stripplot('clusters', 'G1', data=df2, hue=clusters,jitter=0.2)\n",
    "plt.xlabel(\"Cluster\")\n"
   ]
  },
  {
   "cell_type": "code",
   "execution_count": 261,
   "metadata": {},
   "outputs": [
    {
     "data": {
      "text/plain": [
       "Text(0.5, 0, 'Cluster')"
      ]
     },
     "execution_count": 261,
     "metadata": {},
     "output_type": "execute_result"
    },
    {
     "data": {
      "image/png": "[encoded data removed]",
      "text/plain": [
       "<Figure size 576x432 with 1 Axes>"
      ]
     },
     "metadata": {
      "needs_background": "light"
     },
     "output_type": "display_data"
    }
   ],
   "source": [
    "#View clusters by Grade 2\n",
    "sns.stripplot('clusters', 'G2', data=df2, hue=clusters,jitter=0.2)\n",
    "plt.xlabel(\"Cluster\")\n"
   ]
  },
  {
   "cell_type": "markdown",
   "metadata": {},
   "source": [
    "*While the silhouette score for the clustering is almost perfect, there is not a clear pattern for a cluster in terms of the G1 and G2 scores. We can also see that a huge majority of the datapoints are clustered into cluster 0,1and2*"
   ]
  },
  {
   "cell_type": "markdown",
   "metadata": {},
   "source": [
    "**Clustering with address_U, Pstatus_T, paid_yes, nursery_yes, and internet_yes as the input features.**"
   ]
  },
  {
   "cell_type": "code",
   "execution_count": 262,
   "metadata": {},
   "outputs": [
    {
     "name": "stdout",
     "output_type": "stream",
     "text": [
      "0.4767507751240303 k: 3\n",
      "0.5126391383509965 k: 4\n",
      "0.6128667699327223 k: 5\n",
      "0.7290964762842583 k: 6\n",
      "0.7894390172032485 k: 7\n",
      "0.8368623813994333 k: 8\n",
      "0.8616489561115708 k: 9\n",
      "0.8975422496454084 k: 10\n"
     ]
    }
   ],
   "source": [
    "#We will use the silhoutte score to determine the appropriate number of clusters\n",
    "x_subset=x_clustering[:,[11,12,13,14,16]]\n",
    "k_range=range(3,11)\n",
    "for k in k_range:\n",
    "    clustering = KMeans(n_clusters = k, init = 'k-means++', n_init = 10).fit(x_subset)\n",
    "    clusters=clustering.labels_\n",
    "    print(metrics.silhouette_score(x_subset, clusters, metric = \"euclidean\"),\"k:\",k)"
   ]
  },
  {
   "cell_type": "markdown",
   "metadata": {},
   "source": [
    "**We will use 10 as the number of clusters for the selected subset**"
   ]
  },
  {
   "cell_type": "code",
   "execution_count": 263,
   "metadata": {},
   "outputs": [],
   "source": [
    "#kmeans\n",
    "clustering = KMeans(n_clusters = 10, init = 'k-means++', n_init = 10).fit(x_subset)\n",
    "clusters=clustering.labels_\n",
    "df2=x\n",
    "df2[\"clusters\"] = pd.Series(clusters)"
   ]
  },
  {
   "cell_type": "code",
   "execution_count": 264,
   "metadata": {},
   "outputs": [
    {
     "data": {
      "text/plain": [
       "Text(0.5, 0, 'Cluster')"
      ]
     },
     "execution_count": 264,
     "metadata": {},
     "output_type": "execute_result"
    },
    {
     "data": {
      "image/png": "[encoded data removed]",
      "text/plain": [
       "<Figure size 576x432 with 1 Axes>"
      ]
     },
     "metadata": {
      "needs_background": "light"
     },
     "output_type": "display_data"
    }
   ],
   "source": [
    "#View clusters by Grade 1\n",
    "sns.stripplot('clusters', 'G1', data=df2, hue=clusters,jitter=0.2)\n",
    "plt.xlabel(\"Cluster\")\n"
   ]
  },
  {
   "cell_type": "code",
   "execution_count": 265,
   "metadata": {},
   "outputs": [
    {
     "data": {
      "text/plain": [
       "Text(0.5, 0, 'Cluster')"
      ]
     },
     "execution_count": 265,
     "metadata": {},
     "output_type": "execute_result"
    },
    {
     "data": {
      "image/png": "[encoded data removed]",
      "text/plain": [
       "<Figure size 576x432 with 1 Axes>"
      ]
     },
     "metadata": {
      "needs_background": "light"
     },
     "output_type": "display_data"
    }
   ],
   "source": [
    "#View clusters by Grade 2\n",
    "sns.stripplot('clusters', 'G1', data=df2, hue=clusters,jitter=0.2)\n",
    "plt.xlabel(\"Cluster\")\n"
   ]
  },
  {
   "cell_type": "markdown",
   "metadata": {},
   "source": [
    "*While the silhouette score for the clustering is good, there is not a clear pattern for a cluster in terms of the G1 and G2 scores and these are virtually equally distributed across clusters*"
   ]
  },
  {
   "cell_type": "markdown",
   "metadata": {},
   "source": [
    "**Using G1 and G2 as features to cluster on**"
   ]
  },
  {
   "cell_type": "code",
   "execution_count": 266,
   "metadata": {},
   "outputs": [
    {
     "name": "stdout",
     "output_type": "stream",
     "text": [
      "0.44553968283059003 k: 3\n",
      "0.42926131521960736 k: 4\n",
      "0.4451936834575136 k: 5\n",
      "0.4267317343204977 k: 6\n",
      "0.39064889527413793 k: 7\n",
      "0.38625946646208004 k: 8\n",
      "0.40164807938918234 k: 9\n",
      "0.39530109457456786 k: 10\n"
     ]
    }
   ],
   "source": [
    "#We will use the silhoutte score to determine the appropriate number of clusters\n",
    "x_subset=x_clustering[:,[8,9]]\n",
    "k_range=range(3,11)\n",
    "for k in k_range:\n",
    "    clustering = KMeans(n_clusters = k, init = 'k-means++', n_init = 10).fit(x_subset)\n",
    "    clusters=clustering.labels_\n",
    "    print(metrics.silhouette_score(x_subset, clusters, metric = \"euclidean\"),\"k:\",k)"
   ]
  },
  {
   "cell_type": "markdown",
   "metadata": {},
   "source": [
    "**We will use 3 as the number of clusters**"
   ]
  },
  {
   "cell_type": "code",
   "execution_count": 267,
   "metadata": {},
   "outputs": [],
   "source": [
    "#kmeans\n",
    "clustering = KMeans(n_clusters = 3, init = 'k-means++', n_init = 10).fit(x_subset)\n",
    "clusters=clustering.labels_\n",
    "df2=x\n",
    "df2[\"clusters\"] = pd.Series(clusters)"
   ]
  },
  {
   "cell_type": "code",
   "execution_count": 269,
   "metadata": {},
   "outputs": [
    {
     "data": {
      "text/plain": [
       "<matplotlib.axes._subplots.AxesSubplot at 0x2521c874ec8>"
      ]
     },
     "execution_count": 269,
     "metadata": {},
     "output_type": "execute_result"
    },
    {
     "data": {
      "image/png": "[encoded data removed]",
      "text/plain": [
       "<Figure size 576x432 with 1 Axes>"
      ]
     },
     "metadata": {
      "needs_background": "light"
     },
     "output_type": "display_data"
    }
   ],
   "source": [
    "#View scatterplot for the clusters\n",
    "sns.scatterplot('G1', 'G2', data=df2, hue=clusters,palette=\"Accent\")\n"
   ]
  },
  {
   "cell_type": "markdown",
   "metadata": {},
   "source": [
    "**We can clearly see the clusters aligning with the grades here, from lower scores for both g1 and g2 to higher scores, with little to no overlap. We can also conclude that usually a low G1 score co-relates with a low G2 score**"
   ]
  }
 ],
 "metadata": {
  "kernelspec": {
   "display_name": "Python 3",
   "language": "python",
   "name": "python3"
  },
  "language_info": {
   "codemirror_mode": {
    "name": "ipython",
    "version": 3
   },
   "file_extension": ".py",
   "mimetype": "text/x-python",
   "name": "python",
   "nbconvert_exporter": "python",
   "pygments_lexer": "ipython3",
   "version": "3.7.6"
  }
 },
 "nbformat": 4,
 "nbformat_minor": 4
}
